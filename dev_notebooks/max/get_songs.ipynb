{
 "cells": [
  {
   "cell_type": "markdown",
   "metadata": {},
   "source": [
    "### Plan of Attack:\n",
    "\n",
    "1. Get list of new songs after a specific date\n",
    "2. Get data needed for those songs\n",
    "3. Create parquet table\n",
    "4. Save to S3"
   ]
  },
  {
   "cell_type": "code",
   "execution_count": null,
   "metadata": {},
   "outputs": [],
   "source": [
    "# import spotipy\n",
    "# import os\n",
    "# %run './credentials/settings.py'\n",
    "# from spotipy.oauth2 import SpotifyOAuth\n",
    "# scope = \"user-library-read\"\n",
    "\n",
    "# def user_auth(scope=scope):\n",
    "#     SPOTIPY_CLIENT_ID = os.getenv(\"SPOTIPY_CLIENT_ID\")\n",
    "#     SPOTIPY_CLIENT_SECRET = os.getenv(\"SPOTIPY_CLIENT_SECRET\")\n",
    "#     SPOTIPY_REDIRECT_URI = os.getenv('SPOTIPY_REDIRECT_URI_READ')\n",
    "#     print()\n",
    "#     sp = spotipy.Spotify(auth_manager=SpotifyOAuth(scope=scope))\n",
    "#     return sp\n",
    "# sp = user_auth()"
   ]
  },
  {
   "cell_type": "code",
   "execution_count": 1,
   "metadata": {},
   "outputs": [
    {
     "name": "stdout",
     "output_type": "stream",
     "text": [
      "/opt/conda/lib/python3.7/site-packages/secretstorage/dhcrypto.py:16: CryptographyDeprecationWarning: int_from_bytes is deprecated, use int.from_bytes instead\n",
      "  from cryptography.utils import int_from_bytes\n",
      "/opt/conda/lib/python3.7/site-packages/secretstorage/util.py:25: CryptographyDeprecationWarning: int_from_bytes is deprecated, use int.from_bytes instead\n",
      "  from cryptography.utils import int_from_bytes\n",
      "Requirement already satisfied: spotipy in /opt/conda/lib/python3.7/site-packages (2.19.0)\n",
      "Requirement already satisfied: requests>=2.25.0 in /opt/conda/lib/python3.7/site-packages (from spotipy) (2.26.0)\n",
      "Requirement already satisfied: urllib3>=1.26.0 in /opt/conda/lib/python3.7/site-packages (from spotipy) (1.26.6)\n",
      "Requirement already satisfied: six>=1.15.0 in /opt/conda/lib/python3.7/site-packages (from spotipy) (1.16.0)\n",
      "Requirement already satisfied: idna<4,>=2.5 in /opt/conda/lib/python3.7/site-packages (from requests>=2.25.0->spotipy) (2.8)\n",
      "Requirement already satisfied: certifi>=2017.4.17 in /opt/conda/lib/python3.7/site-packages (from requests>=2.25.0->spotipy) (2021.5.30)\n",
      "Requirement already satisfied: charset-normalizer~=2.0.0 in /opt/conda/lib/python3.7/site-packages (from requests>=2.25.0->spotipy) (2.0.3)\n",
      "\u001b[33mWARNING: Running pip as the 'root' user can result in broken permissions and conflicting behaviour with the system package manager. It is recommended to use a virtual environment instead: https://pip.pypa.io/warnings/venv\u001b[0m\n",
      "\u001b[33mWARNING: You are using pip version 21.1.3; however, version 21.2.4 is available.\n",
      "You should consider upgrading via the '/opt/conda/bin/python -m pip install --upgrade pip' command.\u001b[0m\n"
     ]
    }
   ],
   "source": [
    "!pip install spotipy"
   ]
  },
  {
   "cell_type": "code",
   "execution_count": 22,
   "metadata": {},
   "outputs": [],
   "source": [
    "from spotipy.oauth2 import SpotifyClientCredentials\n",
    "import spotipy\n",
    "import os\n",
    "import pandas as pd\n",
    "import numpy as np\n",
    "%run '../../credentials/settings.py'\n",
    "from collections import defaultdict\n",
    "\n",
    "sp = spotipy.Spotify(auth_manager=SpotifyClientCredentials(client_id=os.getenv(\"SPOTIPY_CLIENT_ID\"),\n",
    "                                                           client_secret=os.getenv(\"SPOTIPY_CLIENT_SECRET\")))"
   ]
  },
  {
   "cell_type": "code",
   "execution_count": 4,
   "metadata": {},
   "outputs": [],
   "source": [
    "new_releases = sp.new_releases(country='US')"
   ]
  },
  {
   "cell_type": "code",
   "execution_count": 10,
   "metadata": {},
   "outputs": [
    {
     "data": {
      "text/plain": [
       "20"
      ]
     },
     "execution_count": 10,
     "metadata": {},
     "output_type": "execute_result"
    }
   ],
   "source": [
    "len(new_releases['albums']['items'])"
   ]
  },
  {
   "cell_type": "code",
   "execution_count": 11,
   "metadata": {},
   "outputs": [
    {
     "data": {
      "text/plain": [
       "dict_keys(['album_type', 'artists', 'available_markets', 'external_urls', 'href', 'id', 'images', 'name', 'release_date', 'release_date_precision', 'total_tracks', 'type', 'uri'])"
      ]
     },
     "execution_count": 11,
     "metadata": {},
     "output_type": "execute_result"
    }
   ],
   "source": [
    "new_releases['albums']['items'][0].keys()"
   ]
  },
  {
   "cell_type": "code",
   "execution_count": 16,
   "metadata": {},
   "outputs": [
    {
     "data": {
      "text/plain": [
       "[{'external_urls': {'spotify': 'https://open.spotify.com/artist/56oDRnqbIiwx4mymNEv7dS'},\n",
       "  'href': 'https://api.spotify.com/v1/artists/56oDRnqbIiwx4mymNEv7dS',\n",
       "  'id': '56oDRnqbIiwx4mymNEv7dS',\n",
       "  'name': 'Lizzo',\n",
       "  'type': 'artist',\n",
       "  'uri': 'spotify:artist:56oDRnqbIiwx4mymNEv7dS'},\n",
       " {'external_urls': {'spotify': 'https://open.spotify.com/artist/4kYSro6naA4h99UJvo89HB'},\n",
       "  'href': 'https://api.spotify.com/v1/artists/4kYSro6naA4h99UJvo89HB',\n",
       "  'id': '4kYSro6naA4h99UJvo89HB',\n",
       "  'name': 'Cardi B',\n",
       "  'type': 'artist',\n",
       "  'uri': 'spotify:artist:4kYSro6naA4h99UJvo89HB'}]"
      ]
     },
     "execution_count": 16,
     "metadata": {},
     "output_type": "execute_result"
    }
   ],
   "source": [
    "new_releases['albums']['items'][0]['artists']"
   ]
  },
  {
   "cell_type": "code",
   "execution_count": 26,
   "metadata": {},
   "outputs": [
    {
     "name": "stdout",
     "output_type": "stream",
     "text": [
      "['56oDRnqbIiwx4mymNEv7dS', '4kYSro6naA4h99UJvo89HB']\n",
      "['Lizzo', 'Cardi B']\n"
     ]
    }
   ],
   "source": [
    "artist_lst = new_releases['albums']['items'][0]['artists']\n",
    "artist_ids = str([x['id'] for x in artist_lst])\n",
    "artist_names = [x['name'] for x in artist_lst]\n",
    "print(artist_ids, artist_names,sep='\\n')"
   ]
  },
  {
   "cell_type": "code",
   "execution_count": 27,
   "metadata": {},
   "outputs": [
    {
     "data": {
      "text/plain": [
       "\"['56oDRnqbIiwx4mymNEv7dS', '4kYSro6naA4h99UJvo89HB']\""
      ]
     },
     "execution_count": 27,
     "metadata": {},
     "output_type": "execute_result"
    }
   ],
   "source": [
    "artist_ids"
   ]
  },
  {
   "cell_type": "markdown",
   "metadata": {},
   "source": [
    "### list items we want from each album, will need to figure out how to get track ids from each album (even if an artist releases a single their is an \"album\" associated)\n",
    "- release_date\n",
    "- total_tracks\n",
    "- id\n",
    "- name\n",
    "- artist(s)\n",
    "- artist ids"
   ]
  },
  {
   "cell_type": "code",
   "execution_count": 39,
   "metadata": {},
   "outputs": [],
   "source": [
    "def album_metadata(album_items):\n",
    "    album_data = {}\n",
    "    album_data['id'] = []\n",
    "    album_data['release_date'] = []\n",
    "    album_data['total_tracks']  = []\n",
    "    album_data['artist_id_1'] = []\n",
    "    album_data['artist_ids'] = []\n",
    "    album_data['artist_names'] = []\n",
    "    \n",
    "    for album_item in album_items:\n",
    "    \n",
    "        # map 1:1 data for each record\n",
    "        album_data['id'].append(album_item['id'])\n",
    "        album_data['release_date'].append(album_item['release_date'])\n",
    "        album_data['total_tracks'].append(album_item['total_tracks'])\n",
    "\n",
    "        # get artist(s) data\n",
    "        artist_lst = album_item['artists']\n",
    "        artist_ids = [x['id'] for x in artist_lst]\n",
    "        album_data['artist_id_1'].append(artist_ids[0])\n",
    "        album_data['artist_ids'].append(str(artist_ids))\n",
    "        album_data['artist_names'].append(str([x['name'] for x in artist_lst]))\n",
    "    \n",
    "    return pd.DataFrame.from_dict(album_data,orient='columns')"
   ]
  },
  {
   "cell_type": "code",
   "execution_count": 40,
   "metadata": {},
   "outputs": [
    {
     "data": {
      "text/html": [
       "<div>\n",
       "<style scoped>\n",
       "    .dataframe tbody tr th:only-of-type {\n",
       "        vertical-align: middle;\n",
       "    }\n",
       "\n",
       "    .dataframe tbody tr th {\n",
       "        vertical-align: top;\n",
       "    }\n",
       "\n",
       "    .dataframe thead th {\n",
       "        text-align: right;\n",
       "    }\n",
       "</style>\n",
       "<table border=\"1\" class=\"dataframe\">\n",
       "  <thead>\n",
       "    <tr style=\"text-align: right;\">\n",
       "      <th></th>\n",
       "      <th>id</th>\n",
       "      <th>release_date</th>\n",
       "      <th>total_tracks</th>\n",
       "      <th>artist_id_1</th>\n",
       "      <th>artist_ids</th>\n",
       "      <th>artist_names</th>\n",
       "    </tr>\n",
       "  </thead>\n",
       "  <tbody>\n",
       "    <tr>\n",
       "      <th>0</th>\n",
       "      <td>7jMo8dhMIorHoLlzTisjJy</td>\n",
       "      <td>2021-08-13</td>\n",
       "      <td>1</td>\n",
       "      <td>56oDRnqbIiwx4mymNEv7dS</td>\n",
       "      <td>['56oDRnqbIiwx4mymNEv7dS', '4kYSro6naA4h99UJvo...</td>\n",
       "      <td>['Lizzo', 'Cardi B']</td>\n",
       "    </tr>\n",
       "    <tr>\n",
       "      <th>1</th>\n",
       "      <td>2TvfE8CY37OQIPVGcWYpEA</td>\n",
       "      <td>2021-08-12</td>\n",
       "      <td>1</td>\n",
       "      <td>2o5jDhtHVPhrJdv3cEQ99Z</td>\n",
       "      <td>['2o5jDhtHVPhrJdv3cEQ99Z', '790FomKkXshlbRYZFt...</td>\n",
       "      <td>['Tiësto', 'KAROL G']</td>\n",
       "    </tr>\n",
       "    <tr>\n",
       "      <th>2</th>\n",
       "      <td>5D8Rdb09BkmHscEGSWAlA6</td>\n",
       "      <td>2021-08-13</td>\n",
       "      <td>1</td>\n",
       "      <td>3PhoLpVuITZKcymswpck5b</td>\n",
       "      <td>['3PhoLpVuITZKcymswpck5b', '6M2wZ9GZgrQXHCFfjv...</td>\n",
       "      <td>['Elton John', 'Dua Lipa', 'PNAU']</td>\n",
       "    </tr>\n",
       "    <tr>\n",
       "      <th>3</th>\n",
       "      <td>00fcDjvEq4elj756TESO0c</td>\n",
       "      <td>2021-08-13</td>\n",
       "      <td>1</td>\n",
       "      <td>78rUTD7y6Cy67W1RVzYs7t</td>\n",
       "      <td>['78rUTD7y6Cy67W1RVzYs7t']</td>\n",
       "      <td>['PinkPantheress']</td>\n",
       "    </tr>\n",
       "    <tr>\n",
       "      <th>4</th>\n",
       "      <td>1qMFjBarjO2xD15BwXZguD</td>\n",
       "      <td>2021-08-13</td>\n",
       "      <td>11</td>\n",
       "      <td>0C0XlULifJtAgn6ZNCW2eu</td>\n",
       "      <td>['0C0XlULifJtAgn6ZNCW2eu']</td>\n",
       "      <td>['The Killers']</td>\n",
       "    </tr>\n",
       "    <tr>\n",
       "      <th>5</th>\n",
       "      <td>6vqNFOfIgqe0l2Ui47YSyO</td>\n",
       "      <td>2021-08-13</td>\n",
       "      <td>6</td>\n",
       "      <td>2cFrymmkijnjDg9SS92EPM</td>\n",
       "      <td>['2cFrymmkijnjDg9SS92EPM']</td>\n",
       "      <td>['blackbear']</td>\n",
       "    </tr>\n",
       "    <tr>\n",
       "      <th>6</th>\n",
       "      <td>4ih8LPpqdYPezAMaPAHJYT</td>\n",
       "      <td>2021-08-07</td>\n",
       "      <td>1</td>\n",
       "      <td>46SHBwWsqBkxI7EeeBEQG7</td>\n",
       "      <td>['46SHBwWsqBkxI7EeeBEQG7', '45TgXXqMDdF8BkjA83...</td>\n",
       "      <td>['Kodak Black', 'Rod Wave']</td>\n",
       "    </tr>\n",
       "    <tr>\n",
       "      <th>7</th>\n",
       "      <td>3k4lUXBZxjUGFFQvy8PsHn</td>\n",
       "      <td>2021-08-12</td>\n",
       "      <td>1</td>\n",
       "      <td>6TIYQ3jFPwQSRmorSezPxX</td>\n",
       "      <td>['6TIYQ3jFPwQSRmorSezPxX']</td>\n",
       "      <td>['Machine Gun Kelly']</td>\n",
       "    </tr>\n",
       "    <tr>\n",
       "      <th>8</th>\n",
       "      <td>4pWo1MFBvVAfhjL4aPZFaD</td>\n",
       "      <td>2021-08-13</td>\n",
       "      <td>1</td>\n",
       "      <td>1vyhD5VmyZ7KMfW5gqLgo5</td>\n",
       "      <td>['1vyhD5VmyZ7KMfW5gqLgo5']</td>\n",
       "      <td>['J Balvin']</td>\n",
       "    </tr>\n",
       "    <tr>\n",
       "      <th>9</th>\n",
       "      <td>7L8IHgiomfEpxOm61vgPTm</td>\n",
       "      <td>2021-08-13</td>\n",
       "      <td>12</td>\n",
       "      <td>7z5WFjZAIYejWy0NI5lv4T</td>\n",
       "      <td>['7z5WFjZAIYejWy0NI5lv4T']</td>\n",
       "      <td>['Dan + Shay']</td>\n",
       "    </tr>\n",
       "    <tr>\n",
       "      <th>10</th>\n",
       "      <td>0QnWm07An8WyO3eupjBDoP</td>\n",
       "      <td>2021-08-13</td>\n",
       "      <td>13</td>\n",
       "      <td>4iMO20EPodreIaEl8qW66y</td>\n",
       "      <td>['4iMO20EPodreIaEl8qW66y']</td>\n",
       "      <td>['Still Woozy']</td>\n",
       "    </tr>\n",
       "    <tr>\n",
       "      <th>11</th>\n",
       "      <td>0o6H7RwYZAE6v15lnENDab</td>\n",
       "      <td>2021-08-13</td>\n",
       "      <td>1</td>\n",
       "      <td>7gXb99Sf9nNmpNYeAgIQFG</td>\n",
       "      <td>['7gXb99Sf9nNmpNYeAgIQFG', '26cMerAxjx9GedFt0l...</td>\n",
       "      <td>['Sub Urban', 'Bella Poarch']</td>\n",
       "    </tr>\n",
       "    <tr>\n",
       "      <th>12</th>\n",
       "      <td>6TrSfPp28zgkVuUgyq5qb1</td>\n",
       "      <td>2021-08-13</td>\n",
       "      <td>1</td>\n",
       "      <td>0ErzCpIMyLcjPiwT4elrtZ</td>\n",
       "      <td>['0ErzCpIMyLcjPiwT4elrtZ']</td>\n",
       "      <td>['NLE Choppa']</td>\n",
       "    </tr>\n",
       "    <tr>\n",
       "      <th>13</th>\n",
       "      <td>0xJBj4XORxtxz2gMsi4Lqq</td>\n",
       "      <td>2021-08-13</td>\n",
       "      <td>1</td>\n",
       "      <td>5JMLG56F1X5mFmWNmS0iAp</td>\n",
       "      <td>['5JMLG56F1X5mFmWNmS0iAp']</td>\n",
       "      <td>['Chelsea Cutler']</td>\n",
       "    </tr>\n",
       "    <tr>\n",
       "      <th>14</th>\n",
       "      <td>5wJb3DBSoSMKYJA8TrNKi8</td>\n",
       "      <td>2021-08-13</td>\n",
       "      <td>1</td>\n",
       "      <td>6DgP9otnZw5z6daOntINxp</td>\n",
       "      <td>['6DgP9otnZw5z6daOntINxp', '4Q6nIcaBED8qUel8bB...</td>\n",
       "      <td>['Joel Corry', 'Jax Jones', 'Charli XCX']</td>\n",
       "    </tr>\n",
       "    <tr>\n",
       "      <th>15</th>\n",
       "      <td>4lCYx5CZ0kSamJCiKTDJhV</td>\n",
       "      <td>2021-08-08</td>\n",
       "      <td>1</td>\n",
       "      <td>0WK3H9OErSn5zKOkOV5egm</td>\n",
       "      <td>['0WK3H9OErSn5zKOkOV5egm']</td>\n",
       "      <td>['DDG']</td>\n",
       "    </tr>\n",
       "    <tr>\n",
       "      <th>16</th>\n",
       "      <td>1hykVcbmenjAoG7wwoXmCV</td>\n",
       "      <td>2021-08-13</td>\n",
       "      <td>14</td>\n",
       "      <td>59oA5WbbQvomJz2BuRG071</td>\n",
       "      <td>['59oA5WbbQvomJz2BuRG071']</td>\n",
       "      <td>['Jungle']</td>\n",
       "    </tr>\n",
       "    <tr>\n",
       "      <th>17</th>\n",
       "      <td>0Xgvy0oHafjU6zqJWrVfNO</td>\n",
       "      <td>2021-08-13</td>\n",
       "      <td>5</td>\n",
       "      <td>2VDsDEKCdNm7c7Ve43Z9gw</td>\n",
       "      <td>['2VDsDEKCdNm7c7Ve43Z9gw']</td>\n",
       "      <td>['Clare Dunn']</td>\n",
       "    </tr>\n",
       "    <tr>\n",
       "      <th>18</th>\n",
       "      <td>2ZURBTlzCG2WCMuEwvRBaK</td>\n",
       "      <td>2021-08-13</td>\n",
       "      <td>9</td>\n",
       "      <td>2WqEbbet6L2ndAbvhRVb2S</td>\n",
       "      <td>['2WqEbbet6L2ndAbvhRVb2S']</td>\n",
       "      <td>['Watchhouse']</td>\n",
       "    </tr>\n",
       "    <tr>\n",
       "      <th>19</th>\n",
       "      <td>0xhPSPCaaMNw57lJvSqcQp</td>\n",
       "      <td>2021-08-12</td>\n",
       "      <td>1</td>\n",
       "      <td>5lcDGoJUr5WY5bCFAfYbCU</td>\n",
       "      <td>['5lcDGoJUr5WY5bCFAfYbCU']</td>\n",
       "      <td>['KIRBY']</td>\n",
       "    </tr>\n",
       "  </tbody>\n",
       "</table>\n",
       "</div>"
      ],
      "text/plain": [
       "                        id release_date  total_tracks             artist_id_1  \\\n",
       "0   7jMo8dhMIorHoLlzTisjJy   2021-08-13             1  56oDRnqbIiwx4mymNEv7dS   \n",
       "1   2TvfE8CY37OQIPVGcWYpEA   2021-08-12             1  2o5jDhtHVPhrJdv3cEQ99Z   \n",
       "2   5D8Rdb09BkmHscEGSWAlA6   2021-08-13             1  3PhoLpVuITZKcymswpck5b   \n",
       "3   00fcDjvEq4elj756TESO0c   2021-08-13             1  78rUTD7y6Cy67W1RVzYs7t   \n",
       "4   1qMFjBarjO2xD15BwXZguD   2021-08-13            11  0C0XlULifJtAgn6ZNCW2eu   \n",
       "5   6vqNFOfIgqe0l2Ui47YSyO   2021-08-13             6  2cFrymmkijnjDg9SS92EPM   \n",
       "6   4ih8LPpqdYPezAMaPAHJYT   2021-08-07             1  46SHBwWsqBkxI7EeeBEQG7   \n",
       "7   3k4lUXBZxjUGFFQvy8PsHn   2021-08-12             1  6TIYQ3jFPwQSRmorSezPxX   \n",
       "8   4pWo1MFBvVAfhjL4aPZFaD   2021-08-13             1  1vyhD5VmyZ7KMfW5gqLgo5   \n",
       "9   7L8IHgiomfEpxOm61vgPTm   2021-08-13            12  7z5WFjZAIYejWy0NI5lv4T   \n",
       "10  0QnWm07An8WyO3eupjBDoP   2021-08-13            13  4iMO20EPodreIaEl8qW66y   \n",
       "11  0o6H7RwYZAE6v15lnENDab   2021-08-13             1  7gXb99Sf9nNmpNYeAgIQFG   \n",
       "12  6TrSfPp28zgkVuUgyq5qb1   2021-08-13             1  0ErzCpIMyLcjPiwT4elrtZ   \n",
       "13  0xJBj4XORxtxz2gMsi4Lqq   2021-08-13             1  5JMLG56F1X5mFmWNmS0iAp   \n",
       "14  5wJb3DBSoSMKYJA8TrNKi8   2021-08-13             1  6DgP9otnZw5z6daOntINxp   \n",
       "15  4lCYx5CZ0kSamJCiKTDJhV   2021-08-08             1  0WK3H9OErSn5zKOkOV5egm   \n",
       "16  1hykVcbmenjAoG7wwoXmCV   2021-08-13            14  59oA5WbbQvomJz2BuRG071   \n",
       "17  0Xgvy0oHafjU6zqJWrVfNO   2021-08-13             5  2VDsDEKCdNm7c7Ve43Z9gw   \n",
       "18  2ZURBTlzCG2WCMuEwvRBaK   2021-08-13             9  2WqEbbet6L2ndAbvhRVb2S   \n",
       "19  0xhPSPCaaMNw57lJvSqcQp   2021-08-12             1  5lcDGoJUr5WY5bCFAfYbCU   \n",
       "\n",
       "                                           artist_ids  \\\n",
       "0   ['56oDRnqbIiwx4mymNEv7dS', '4kYSro6naA4h99UJvo...   \n",
       "1   ['2o5jDhtHVPhrJdv3cEQ99Z', '790FomKkXshlbRYZFt...   \n",
       "2   ['3PhoLpVuITZKcymswpck5b', '6M2wZ9GZgrQXHCFfjv...   \n",
       "3                          ['78rUTD7y6Cy67W1RVzYs7t']   \n",
       "4                          ['0C0XlULifJtAgn6ZNCW2eu']   \n",
       "5                          ['2cFrymmkijnjDg9SS92EPM']   \n",
       "6   ['46SHBwWsqBkxI7EeeBEQG7', '45TgXXqMDdF8BkjA83...   \n",
       "7                          ['6TIYQ3jFPwQSRmorSezPxX']   \n",
       "8                          ['1vyhD5VmyZ7KMfW5gqLgo5']   \n",
       "9                          ['7z5WFjZAIYejWy0NI5lv4T']   \n",
       "10                         ['4iMO20EPodreIaEl8qW66y']   \n",
       "11  ['7gXb99Sf9nNmpNYeAgIQFG', '26cMerAxjx9GedFt0l...   \n",
       "12                         ['0ErzCpIMyLcjPiwT4elrtZ']   \n",
       "13                         ['5JMLG56F1X5mFmWNmS0iAp']   \n",
       "14  ['6DgP9otnZw5z6daOntINxp', '4Q6nIcaBED8qUel8bB...   \n",
       "15                         ['0WK3H9OErSn5zKOkOV5egm']   \n",
       "16                         ['59oA5WbbQvomJz2BuRG071']   \n",
       "17                         ['2VDsDEKCdNm7c7Ve43Z9gw']   \n",
       "18                         ['2WqEbbet6L2ndAbvhRVb2S']   \n",
       "19                         ['5lcDGoJUr5WY5bCFAfYbCU']   \n",
       "\n",
       "                                 artist_names  \n",
       "0                        ['Lizzo', 'Cardi B']  \n",
       "1                       ['Tiësto', 'KAROL G']  \n",
       "2          ['Elton John', 'Dua Lipa', 'PNAU']  \n",
       "3                          ['PinkPantheress']  \n",
       "4                             ['The Killers']  \n",
       "5                               ['blackbear']  \n",
       "6                 ['Kodak Black', 'Rod Wave']  \n",
       "7                       ['Machine Gun Kelly']  \n",
       "8                                ['J Balvin']  \n",
       "9                              ['Dan + Shay']  \n",
       "10                            ['Still Woozy']  \n",
       "11              ['Sub Urban', 'Bella Poarch']  \n",
       "12                             ['NLE Choppa']  \n",
       "13                         ['Chelsea Cutler']  \n",
       "14  ['Joel Corry', 'Jax Jones', 'Charli XCX']  \n",
       "15                                    ['DDG']  \n",
       "16                                 ['Jungle']  \n",
       "17                             ['Clare Dunn']  \n",
       "18                             ['Watchhouse']  \n",
       "19                                  ['KIRBY']  "
      ]
     },
     "execution_count": 40,
     "metadata": {},
     "output_type": "execute_result"
    }
   ],
   "source": [
    "#test it\n",
    "album_df = album_metadata(new_releases['albums']['items'])\n",
    "album_df"
   ]
  },
  {
   "cell_type": "markdown",
   "metadata": {},
   "source": [
    "### figure out how to get track IDs from each of the above"
   ]
  },
  {
   "cell_type": "code",
   "execution_count": null,
   "metadata": {},
   "outputs": [],
   "source": []
  },
  {
   "cell_type": "code",
   "execution_count": null,
   "metadata": {},
   "outputs": [],
   "source": [
    "def find_song(name, year):\n",
    "  \n",
    "    \"\"\"\n",
    "    This function returns a dataframe with data for a song given the name and release year.\n",
    "    The function uses Spotipy to fetch audio features and metadata for the specified song.\n",
    "    \n",
    "    \"\"\"\n",
    "    \n",
    "    song_data = defaultdict()\n",
    "    results = sp.search(q= 'track: {} year: {}'.format(name,\n",
    "                                                       year), limit=1)\n",
    "    if results['tracks']['items'] == []:\n",
    "        return None\n",
    "    \n",
    "    results = results['tracks']['items'][0]\n",
    "\n",
    "    track_id = results['id']\n",
    "    audio_features = sp.audio_features(track_id)[0]\n",
    "    \n",
    "    song_data['name'] = [name]\n",
    "    song_data['year'] = [year]\n",
    "    song_data['explicit'] = [int(results['explicit'])]\n",
    "    song_data['duration_ms'] = [results['duration_ms']]\n",
    "    song_data['popularity'] = [results['popularity']]\n",
    "    \n",
    "    for key, value in audio_features.items():\n",
    "        song_data[key] = value\n",
    "    \n",
    "    return pd.DataFrame(song_data)\n",
    "    "
   ]
  }
 ],
 "metadata": {
  "instance_type": "ml.t3.medium",
  "kernelspec": {
   "display_name": "Python 3 (Data Science)",
   "language": "python",
   "name": "python3__SAGEMAKER_INTERNAL__arn:aws:sagemaker:us-west-2:236514542706:image/datascience-1.0"
  },
  "language_info": {
   "codemirror_mode": {
    "name": "ipython",
    "version": 3
   },
   "file_extension": ".py",
   "mimetype": "text/x-python",
   "name": "python",
   "nbconvert_exporter": "python",
   "pygments_lexer": "ipython3",
   "version": "3.7.10"
  }
 },
 "nbformat": 4,
 "nbformat_minor": 4
}
